{
 "cells": [
  {
   "cell_type": "markdown",
   "metadata": {},
   "source": [
    "## Применим к картинкам модель VGG16"
   ]
  },
  {
   "cell_type": "code",
   "execution_count": 2,
   "metadata": {},
   "outputs": [],
   "source": [
    "'''Импорты для препроцессинга'''\n",
    "from keras.preprocessing.image import load_img \n",
    "from keras.preprocessing.image import img_to_array \n",
    "from keras.applications.vgg16 import preprocess_input"
   ]
  },
  {
   "cell_type": "code",
   "execution_count": 3,
   "metadata": {},
   "outputs": [],
   "source": [
    "'''Импорты моделей'''\n",
    "from keras.applications.vgg16 import VGG16 \n",
    "from keras.models import Model\n",
    "\n",
    "from sklearn.cluster import KMeans\n",
    "from sklearn.decomposition import PCA"
   ]
  },
  {
   "cell_type": "code",
   "execution_count": 4,
   "metadata": {},
   "outputs": [],
   "source": [
    "'''Импорты базовых библиотек для обработки данных'''\n",
    "import os\n",
    "import numpy as np\n",
    "from numpy import savetxt\n",
    "import matplotlib.pyplot as plt\n",
    "from random import randint\n",
    "import pandas as pd\n",
    "import cv2\n",
    "import re\n",
    "import csv\n",
    "from tqdm import tqdm\n",
    "import collections"
   ]
  },
  {
   "cell_type": "code",
   "execution_count": 5,
   "metadata": {},
   "outputs": [],
   "source": [
    "'''Импорты для визуализации'''\n",
    "import bokeh.models as bm, bokeh.plotting as pl\n",
    "from bokeh.io import output_notebook\n",
    "from bokeh.plotting import ColumnDataSource, figure, output_file, show\n",
    "from bokeh.transform import factor_cmap"
   ]
  },
  {
   "cell_type": "code",
   "execution_count": 6,
   "metadata": {},
   "outputs": [],
   "source": [
    "'''Функция создает список shots, в котором лежат названия файлов кадров'''\n",
    "def add_image_names_2_list(path):\n",
    "    # change the working directory to the path where the images are located\n",
    "    os.chdir(path)\n",
    "\n",
    "    # this list holds all the image filename\n",
    "    shots = []\n",
    "\n",
    "    # creates a ScandirIterator aliased as files\n",
    "    with os.scandir(path) as files:\n",
    "      # loops through each file in the directory\n",
    "        for file in files:\n",
    "            if file.name.endswith('.jpg'):\n",
    "              # adds only the image files to the flowers list\n",
    "                shots.append(file.name)\n",
    "    return shots"
   ]
  },
  {
   "cell_type": "code",
   "execution_count": 7,
   "metadata": {},
   "outputs": [],
   "source": [
    "'''Features - признаки объекта, получение сжатия размерности. В данной функции мы загружаем изображение,\n",
    "предобрабатываем его с помощью встроенных методов keras, изменяем размерность, потому что нейронная сеть работает\n",
    "только с изображениями определенных форматов'''\n",
    "def extract_features(file, model):\n",
    "    # load the image as a 224x224 array\n",
    "    img = load_img(file, target_size=(224,224))\n",
    "    # convert from 'PIL.Image.Image' to numpy array\n",
    "    img = np.array(img) \n",
    "    # reshape the data for the model reshape(num_of_samples, dim 1, dim 2, channels)\n",
    "    reshaped_img = img.reshape(1,224,224,3) \n",
    "    # prepare image for model\n",
    "    imgx = preprocess_input(reshaped_img)\n",
    "    # get the feature vector\n",
    "    features = model.predict(imgx, use_multiprocessing=True)\n",
    "    return features"
   ]
  },
  {
   "cell_type": "code",
   "execution_count": 8,
   "metadata": {},
   "outputs": [],
   "source": [
    "'''Путь к нейронке'''\n",
    "weights_path = 'vgg16_weights_tf_dim_ordering_tf_kernels.h5'"
   ]
  },
  {
   "cell_type": "code",
   "execution_count": 9,
   "metadata": {},
   "outputs": [],
   "source": [
    "'''Загружаем модель'''\n",
    "model = VGG16(weights = weights_path)\n",
    "model = Model(inputs = model.inputs, outputs = model.layers[-2].output)"
   ]
  },
  {
   "cell_type": "markdown",
   "metadata": {},
   "source": [
    "# Выделяем Features для каждого фильма"
   ]
  },
  {
   "cell_type": "code",
   "execution_count": 9,
   "metadata": {},
   "outputs": [],
   "source": [
    "'''Путь к кадрам фильма'''\n",
    "path_2012 = '2012'"
   ]
  },
  {
   "cell_type": "code",
   "execution_count": 8,
   "metadata": {},
   "outputs": [],
   "source": [
    "def get_image_features(path, model):\n",
    "    shots = add_image_names_2_list(path)\n",
    "    shots.sort(key=lambda f: int(re.sub('\\D', '', f)))\n",
    "    data = {}\n",
    "\n",
    "    for shot in tqdm(shots):\n",
    "        feat = extract_features(shot, model)\n",
    "        data[shot] = feat\n",
    "\n",
    "    filenames = np.array(list(data.keys()))\n",
    "\n",
    "# get a list of just the features\n",
    "    feat = np.array(list(data.values()))\n",
    "\n",
    "# reshape so that there are 210 samples of 4096 vectors\n",
    "    feat = feat.reshape(-1,4096)\n",
    "    \n",
    "    return data, feat, filenames"
   ]
  },
  {
   "cell_type": "markdown",
   "metadata": {},
   "source": [
    "## Получение и сохранение даты"
   ]
  },
  {
   "cell_type": "code",
   "execution_count": 11,
   "metadata": {
    "scrolled": true
   },
   "outputs": [
    {
     "name": "stderr",
     "output_type": "stream",
     "text": [
      "100%|██████████| 7764/7764 [48:52<00:00,  2.65it/s]  \n"
     ]
    }
   ],
   "source": [
    "'''Энергозатратный чанк, изменяет размерность каждого фрейма'''\n",
    "data, feat, filenames = get_image_features(path_2012, model)"
   ]
  },
  {
   "cell_type": "code",
   "execution_count": 14,
   "metadata": {},
   "outputs": [],
   "source": [
    "def save_files_and_features_to_csv(data, year_folder, year_file):\n",
    "    pd.DataFrame(np.concatenate(list(data.values())), index=data.keys()).to_csv(\"Data/{}/Features_{}.csv\".format(year_folder, year_file))"
   ]
  },
  {
   "cell_type": "code",
   "execution_count": 31,
   "metadata": {},
   "outputs": [],
   "source": [
    "save_files_and_features_to_csv(data, 2012, 2012)"
   ]
  }
 ],
 "metadata": {
  "kernelspec": {
   "display_name": "Python 3",
   "language": "python",
   "name": "python3"
  },
  "language_info": {
   "codemirror_mode": {
    "name": "ipython",
    "version": 3
   },
   "file_extension": ".py",
   "mimetype": "text/x-python",
   "name": "python",
   "nbconvert_exporter": "python",
   "pygments_lexer": "ipython3",
   "version": "3.8.1"
  }
 },
 "nbformat": 4,
 "nbformat_minor": 4
}
