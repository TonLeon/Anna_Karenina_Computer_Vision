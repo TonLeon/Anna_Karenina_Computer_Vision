{
 "cells": [
  {
   "cell_type": "code",
   "execution_count": 8,
   "metadata": {},
   "outputs": [],
   "source": [
    "import cv2\n",
    "import re"
   ]
  },
  {
   "cell_type": "code",
   "execution_count": 5,
   "metadata": {},
   "outputs": [],
   "source": [
    "def extract_every_k_second_frame(path_to_video, path_to_folder, k: int, start_frame_index=0, \n",
    "                                 num_frames_per_sec=24):\n",
    "    '''Функция отвечает за вычленение первого кадра каждой n-ной секунды (кадров т.о. становится меньше, \n",
    "    k - это номер секунды).\n",
    "    Проблема: есть все-таки монтажные черные склейки, и n-ные секунды могут выпадать на них, из-за чего кадры\n",
    "    могут получаться не очень качественными. Возможно, этого не будет заметно, или же количество черных кадров\n",
    "    будет минимальным'''\n",
    "    \n",
    "    vidcap = cv2.VideoCapture(path_to_video)\n",
    "    success,image = vidcap.read()\n",
    "    count = start_frame_index * num_frames_per_sec * k\n",
    "    while success:\n",
    "        success,image = vidcap.read()\n",
    "    #     print('Read a new frame: ', success, ' ', count) #это вероятно можно убрать\n",
    "        if count % (num_frames_per_sec * k) == 0:\n",
    "            cv2.imwrite(path_to_folder + \"/{}_frame.jpg\".format(count // (num_frames_per_sec * k)), image)  \n",
    "        count += 1\n",
    "    return print('done')"
   ]
  },
  {
   "cell_type": "markdown",
   "metadata": {},
   "source": [
    "# Division of the movies into frames and frames renaming"
   ]
  },
  {
   "cell_type": "code",
   "execution_count": 6,
   "metadata": {},
   "outputs": [
    {
     "name": "stdout",
     "output_type": "stream",
     "text": [
      "done\n"
     ]
    }
   ],
   "source": [
    "film_path = 'Anna_Karenina_2012.mov'\n",
    "extract_every_k_second_frame(film_path,'2012', 1)"
   ]
  },
  {
   "cell_type": "code",
   "execution_count": 9,
   "metadata": {},
   "outputs": [],
   "source": [
    "# '''Чанк, чтобы переименовать файлы'''\n",
    "\n",
    "import os\n",
    "path = '2012'\n",
    "files = [f for f in os.listdir(path) if f.endswith('.jpg')]\n",
    "files.sort(key=lambda file: int(re.sub('\\D', '', file)))\n",
    "\n",
    "for index, file in enumerate(files):\n",
    "    os.rename(os.path.join(path, file), os.path.join(path, ''.join(['2012_1_', str(index), '.jpg'])))"
   ]
  },
  {
   "cell_type": "markdown",
   "metadata": {},
   "source": [
    "# Series Preprocessing"
   ]
  },
  {
   "cell_type": "markdown",
   "metadata": {},
   "source": [
    "## Cut the series' episodes"
   ]
  },
  {
   "cell_type": "code",
   "execution_count": null,
   "metadata": {},
   "outputs": [],
   "source": [
    "from moviepy.video.io.ffmpeg_tools import ffmpeg_extract_subclip"
   ]
  },
  {
   "cell_type": "code",
   "execution_count": 10,
   "metadata": {},
   "outputs": [],
   "source": [
    "# Function for episodes with the same timing and opening\n",
    "def cut_film(directory, start_time_in_sec, end_time_in_sec):\n",
    "    for file in os.listdir(directory):\n",
    "        if file.endswith('.mp4') or file.endswith('.mkv') or file.endswith('.avi'):\n",
    "            ffmpeg_extract_subclip(directory + '/' + file, start_time_in_sec, end_time_in_sec, \n",
    "                                   targetname = directory + '/cut_series/'+ file)"
   ]
  },
  {
   "cell_type": "code",
   "execution_count": null,
   "metadata": {},
   "outputs": [],
   "source": [
    "directory_soloviev = '/Users/tonleon/Desktop/Films/Soloviev'\n",
    "cut_film(directory_soloviev, 70, 3023)"
   ]
  },
  {
   "cell_type": "code",
   "execution_count": null,
   "metadata": {},
   "outputs": [],
   "source": [
    "# Function for the episodes with different timing and opening\n",
    "def cut_films_in_directory(directory, film_2_cut_start_end):\n",
    "    for file in os.listdir(directory):\n",
    "        if file.endswith('.mp4') or file.endswith('.mkv') or file.endswith('.avi'):\n",
    "            start_time_in_sec, end_time_in_sec = film_2_cut_start_end[file]\n",
    "            ffmpeg_extract_subclip(directory + '/' + file, start_time_in_sec, end_time_in_sec, \n",
    "                                   targetname = directory + '/cut_series/'+ file)"
   ]
  },
  {
   "cell_type": "code",
   "execution_count": null,
   "metadata": {},
   "outputs": [],
   "source": [
    "directory_shahnazarov = '/Users/tonleon/Desktop/Films/Shahnazarov'\n",
    "series_start_end_in_min_sec = [\n",
    "    [(1, 11), (42, 43)],\n",
    "    [(1, 42), (42, 7)],\n",
    "    [(1, 53), (41, 39)],\n",
    "    [(1, 50), (41, 2)],\n",
    "    [(1, 36), (44, 24)],\n",
    "    [(1, 39), (46, 18)],\n",
    "    [(1, 24), (44, 10)],\n",
    "    [(1, 25), (44, 0)]\n",
    "]\n",
    "\n",
    "shahnazarov_series_2_time_start_end = {}\n",
    "for i, (start, end) in enumerate(series_start_end_in_min_sec):\n",
    "    start_time = start[0]  * 60 + start[1]\n",
    "    end_time = end[0]  * 60 + end[1]\n",
    "    shahnazarov_series_2_time_start_end['Anna_0{}.mkv'.format(i + 1)] = (start_time, end_time)"
   ]
  },
  {
   "cell_type": "code",
   "execution_count": null,
   "metadata": {},
   "outputs": [],
   "source": [
    "cut_films_in_directory(directory_shahnazarov, shahnazarov_series_2_time_start_end)"
   ]
  },
  {
   "cell_type": "markdown",
   "metadata": {},
   "source": [
    "## Extract frames from series"
   ]
  },
  {
   "cell_type": "code",
   "execution_count": null,
   "metadata": {},
   "outputs": [],
   "source": [
    "def extract_every_k_second_frame_from_series(path_to_video, path_to_folder, film_name, k: int, start_frame_index=0, series_num='', num_frames_per_sec=24):\n",
    "    '''Функция отвечает за вычленение первого кадра каждой n-ной секунды (кадров т.о. становится меньше, \n",
    "    k - это номер секунды).\n",
    "    Проблема: есть все-таки монтажные черные склейки, и n-ные секунды могут выпадать на них, из-за чего кадры\n",
    "    могут получаться не очень качественными. Возможно, этого не будет заметно, или же количество черных кадров\n",
    "    будет минимальным'''\n",
    "    \n",
    "    vidcap = cv2.VideoCapture(path_to_video)\n",
    "    success,image = vidcap.read()\n",
    "    count = start_frame_index * num_frames_per_sec * k\n",
    "    \n",
    "    if series_num != '':\n",
    "        series_num = '_' + str(series_num)\n",
    "        \n",
    "    while success:\n",
    "        success,image = vidcap.read()\n",
    "        if count % (num_frames_per_sec * k) == 0:\n",
    "#             cv2.imwrite(path_to_folder + str(film_name) + '_' + str(series_num) +\"_{}.jpg\".format(count // (num_frames_per_sec * k)), image)  \n",
    "            cv2.imwrite('{}/{}{}_{}.jpg'.format(path_to_folder,\n",
    "                                                 film_name,\n",
    "                                                 series_num,\n",
    "                                                 count // (num_frames_per_sec * k)), image)  \n",
    "        count += 1\n",
    "    return print('done')"
   ]
  },
  {
   "cell_type": "code",
   "execution_count": null,
   "metadata": {},
   "outputs": [],
   "source": [
    "extract_every_k_second_frame('/Users/tonleon/Desktop/Films/Karenina_Italian/Anna Karenina E02.avi', \n",
    "                             '/Users/tonleon/Desktop/Films/Karenina_Italian/2013_frames', 1, start_frame_index=5880, num_frames_per_sec=24)"
   ]
  },
  {
   "cell_type": "code",
   "execution_count": null,
   "metadata": {},
   "outputs": [],
   "source": [
    "extract_every_k_second_frame_from_series('/Users/tonleon/Desktop/Films/Shahnazarov/cut_series/Anna_08.mkv',\n",
    "                             '/Users/tonleon/Desktop/Films/Shahnazarov/2017_frames', \n",
    "                             2017, 1, 0, 8)"
   ]
  }
 ],
 "metadata": {
  "kernelspec": {
   "display_name": "Python 3",
   "language": "python",
   "name": "python3"
  },
  "language_info": {
   "codemirror_mode": {
    "name": "ipython",
    "version": 3
   },
   "file_extension": ".py",
   "mimetype": "text/x-python",
   "name": "python",
   "nbconvert_exporter": "python",
   "pygments_lexer": "ipython3",
   "version": "3.8.1"
  }
 },
 "nbformat": 4,
 "nbformat_minor": 4
}
